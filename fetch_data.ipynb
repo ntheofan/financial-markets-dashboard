{
 "cells": [
  {
   "cell_type": "code",
   "execution_count": 58,
   "id": "3b17a7d4",
   "metadata": {},
   "outputs": [],
   "source": [
    "import pandas as pd\n",
    "import numpy as np\n",
    "import yfinance as yf\n",
    "from helpers import get_data, get_us_tickers\n",
    "\n",
    "\n",
    "\n",
    "\n",
    "\n",
    "tickers = get_us_tickers()\n"
   ]
  },
  {
   "cell_type": "code",
   "execution_count": 59,
   "id": "f34fdfce",
   "metadata": {},
   "outputs": [
    {
     "data": {
      "text/plain": [
       "(11679, 5)"
      ]
     },
     "execution_count": 59,
     "metadata": {},
     "output_type": "execute_result"
    }
   ],
   "source": [
    "tickers.shape"
   ]
  },
  {
   "cell_type": "code",
   "execution_count": 60,
   "id": "5a731e95",
   "metadata": {},
   "outputs": [
    {
     "name": "stdout",
     "output_type": "stream",
     "text": [
      "<class 'pandas.core.frame.DataFrame'>\n",
      "RangeIndex: 11679 entries, 0 to 11678\n",
      "Data columns (total 5 columns):\n",
      " #   Column           Non-Null Count  Dtype \n",
      "---  ------           --------------  ----- \n",
      " 0   Symbol           5032 non-null   object\n",
      " 1   Security Name    11677 non-null  object\n",
      " 2   Exchange         6645 non-null   object\n",
      " 3   ETF              11669 non-null  object\n",
      " 4   Market Category  5032 non-null   object\n",
      "dtypes: object(5)\n",
      "memory usage: 456.3+ KB\n"
     ]
    }
   ],
   "source": [
    "tickers.info()"
   ]
  },
  {
   "cell_type": "code",
   "execution_count": 61,
   "id": "2cde69a0",
   "metadata": {},
   "outputs": [
    {
     "data": {
      "text/html": [
       "<div>\n",
       "<style scoped>\n",
       "    .dataframe tbody tr th:only-of-type {\n",
       "        vertical-align: middle;\n",
       "    }\n",
       "\n",
       "    .dataframe tbody tr th {\n",
       "        vertical-align: top;\n",
       "    }\n",
       "\n",
       "    .dataframe thead th {\n",
       "        text-align: right;\n",
       "    }\n",
       "</style>\n",
       "<table border=\"1\" class=\"dataframe\">\n",
       "  <thead>\n",
       "    <tr style=\"text-align: right;\">\n",
       "      <th></th>\n",
       "      <th>Symbol</th>\n",
       "      <th>Security Name</th>\n",
       "      <th>Exchange</th>\n",
       "      <th>ETF</th>\n",
       "      <th>Market Category</th>\n",
       "    </tr>\n",
       "  </thead>\n",
       "  <tbody>\n",
       "    <tr>\n",
       "      <th>0</th>\n",
       "      <td>AACB</td>\n",
       "      <td>Artius II Acquisition Inc. - Class A Ordinary ...</td>\n",
       "      <td>NaN</td>\n",
       "      <td>N</td>\n",
       "      <td>G</td>\n",
       "    </tr>\n",
       "    <tr>\n",
       "      <th>1</th>\n",
       "      <td>AACBR</td>\n",
       "      <td>Artius II Acquisition Inc. - Rights</td>\n",
       "      <td>NaN</td>\n",
       "      <td>N</td>\n",
       "      <td>G</td>\n",
       "    </tr>\n",
       "    <tr>\n",
       "      <th>2</th>\n",
       "      <td>AACBU</td>\n",
       "      <td>Artius II Acquisition Inc. - Units</td>\n",
       "      <td>NaN</td>\n",
       "      <td>N</td>\n",
       "      <td>G</td>\n",
       "    </tr>\n",
       "    <tr>\n",
       "      <th>3</th>\n",
       "      <td>AACG</td>\n",
       "      <td>ATA Creativity Global - American Depositary Sh...</td>\n",
       "      <td>NaN</td>\n",
       "      <td>N</td>\n",
       "      <td>S</td>\n",
       "    </tr>\n",
       "    <tr>\n",
       "      <th>4</th>\n",
       "      <td>AACI</td>\n",
       "      <td>Armada Acquisition Corp. II - Class A Ordinary...</td>\n",
       "      <td>NaN</td>\n",
       "      <td>N</td>\n",
       "      <td>G</td>\n",
       "    </tr>\n",
       "  </tbody>\n",
       "</table>\n",
       "</div>"
      ],
      "text/plain": [
       "  Symbol                                      Security Name  ... ETF Market Category\n",
       "0   AACB  Artius II Acquisition Inc. - Class A Ordinary ...  ...   N               G\n",
       "1  AACBR                Artius II Acquisition Inc. - Rights  ...   N               G\n",
       "2  AACBU                 Artius II Acquisition Inc. - Units  ...   N               G\n",
       "3   AACG  ATA Creativity Global - American Depositary Sh...  ...   N               S\n",
       "4   AACI  Armada Acquisition Corp. II - Class A Ordinary...  ...   N               G\n",
       "\n",
       "[5 rows x 5 columns]"
      ]
     },
     "execution_count": 61,
     "metadata": {},
     "output_type": "execute_result"
    }
   ],
   "source": [
    "tickers.head()"
   ]
  },
  {
   "cell_type": "code",
   "execution_count": 72,
   "id": "2573fb33",
   "metadata": {},
   "outputs": [],
   "source": [
    "tickers.to_csv(\"./data/raw/tickers.csv\", index=False)"
   ]
  },
  {
   "cell_type": "code",
   "execution_count": 75,
   "id": "8a55a4c8",
   "metadata": {},
   "outputs": [],
   "source": [
    "tick = tickers['symbol'].to_list()"
   ]
  },
  {
   "cell_type": "code",
   "execution_count": null,
   "id": "52c763cc",
   "metadata": {},
   "outputs": [],
   "source": []
  }
 ],
 "metadata": {
  "kernelspec": {
   "display_name": ".venv",
   "language": "python",
   "name": "python3"
  },
  "language_info": {
   "codemirror_mode": {
    "name": "ipython",
    "version": 3
   },
   "file_extension": ".py",
   "mimetype": "text/x-python",
   "name": "python",
   "nbconvert_exporter": "python",
   "pygments_lexer": "ipython3",
   "version": "3.13.5"
  }
 },
 "nbformat": 4,
 "nbformat_minor": 5
}
